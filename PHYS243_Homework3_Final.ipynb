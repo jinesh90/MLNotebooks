{
  "nbformat": 4,
  "nbformat_minor": 0,
  "metadata": {
    "colab": {
      "name": "PHYS243:Homework3-Final.ipynb",
      "provenance": [],
      "collapsed_sections": [],
      "authorship_tag": "ABX9TyNao4DN90gYdVfO95Yxq384",
      "include_colab_link": true
    },
    "kernelspec": {
      "name": "python3",
      "display_name": "Python 3"
    },
    "language_info": {
      "name": "python"
    }
  },
  "cells": [
    {
      "cell_type": "markdown",
      "metadata": {
        "id": "view-in-github",
        "colab_type": "text"
      },
      "source": [
        "<a href=\"https://colab.research.google.com/github/jinesh90/MLNotebooks/blob/master/PHYS243_Homework3_Final.ipynb\" target=\"_parent\"><img src=\"https://colab.research.google.com/assets/colab-badge.svg\" alt=\"Open In Colab\"/></a>"
      ]
    },
    {
      "cell_type": "markdown",
      "metadata": {
        "id": "3mPRHjqiIk17"
      },
      "source": [
        "# PHYS243: Homework 3"
      ]
    },
    {
      "cell_type": "markdown",
      "metadata": {
        "id": "sJaf6gzKPVV_"
      },
      "source": [
        "## Problem 1: Linear Regression"
      ]
    },
    {
      "cell_type": "code",
      "metadata": {
        "id": "TOVvsQxePdFf"
      },
      "source": [
        "# import necessary libraries\n",
        "import pandas as pd\n",
        "import matplotlib.pyplot as plt\n",
        "import numpy as np\n",
        "from io import StringIO"
      ],
      "execution_count": 222,
      "outputs": []
    },
    {
      "cell_type": "code",
      "metadata": {
        "colab": {
          "resources": {
            "http://localhost:8080/nbextensions/google.colab/files.js": {
              "data": "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",
              "ok": true,
              "headers": [
                [
                  "content-type",
                  "application/javascript"
                ]
              ],
              "status": 200,
              "status_text": ""
            }
          },
          "base_uri": "https://localhost:8080/",
          "height": 72
        },
        "id": "GpDj7gsPQP71",
        "outputId": "9c15f5f7-910d-4c31-8e54-dce3c81b7d47"
      },
      "source": [
        "# upload data file from local machine\n",
        "from google.colab import files\n",
        "from IPython import display\n",
        "uploaded = files.upload()"
      ],
      "execution_count": 223,
      "outputs": [
        {
          "output_type": "display_data",
          "data": {
            "text/html": [
              "\n",
              "     <input type=\"file\" id=\"files-4aca8199-2141-4f74-bb1c-7d36d1dd1be5\" name=\"files[]\" multiple disabled\n",
              "        style=\"border:none\" />\n",
              "     <output id=\"result-4aca8199-2141-4f74-bb1c-7d36d1dd1be5\">\n",
              "      Upload widget is only available when the cell has been executed in the\n",
              "      current browser session. Please rerun this cell to enable.\n",
              "      </output>\n",
              "      <script src=\"/nbextensions/google.colab/files.js\"></script> "
            ],
            "text/plain": [
              "<IPython.core.display.HTML object>"
            ]
          },
          "metadata": {
            "tags": []
          }
        },
        {
          "output_type": "stream",
          "text": [
            "Saving birthrate.dat to birthrate.dat\n"
          ],
          "name": "stdout"
        }
      ]
    },
    {
      "cell_type": "markdown",
      "metadata": {
        "id": "n1rYEQdRRHkd"
      },
      "source": [
        "### 1) Find the best model parameters using gradient descent and assuming least square loss function\n",
        "\n",
        "For the best fit parameters finding, we are following these steps\n",
        "\n",
        "Assume linear relationship of function Y = β0​x0​+β1​x1​+β1​x2​+…+βn​xn​\n",
        " or in general Y = w.X + b\n",
        "\n",
        "define loss function as loss = (1/2n) * Σ (y_pred - y) ** 2\n",
        "\n",
        "and find partial derivative (gradient) of W an b and adjust value called theta\n",
        "\n",
        "at each step \n",
        "\n",
        "where \n",
        "dtheta = -(1/m)* learning_rate * Σ X*((y_pred - y) ** 2)\n",
        "\n"
      ]
    },
    {
      "cell_type": "code",
      "metadata": {
        "id": "8Nb8SO7YRGpS"
      },
      "source": [
        "# read data from file\n",
        "\n",
        "fp = open(\"birthrate.dat\").read()\n",
        "df = pd.read_fwf(StringIO(fp),sep=\"\\s+\", header=None)\n"
      ],
      "execution_count": 327,
      "outputs": []
    },
    {
      "cell_type": "code",
      "metadata": {
        "colab": {
          "base_uri": "https://localhost:8080/",
          "height": 204
        },
        "id": "CRQ0xCNlQzdl",
        "outputId": "48362809-1251-4046-8b76-b50a4d552e79"
      },
      "source": [
        "# check data frame\n",
        "df.head()"
      ],
      "execution_count": 328,
      "outputs": [
        {
          "output_type": "execute_result",
          "data": {
            "text/html": [
              "<div>\n",
              "<style scoped>\n",
              "    .dataframe tbody tr th:only-of-type {\n",
              "        vertical-align: middle;\n",
              "    }\n",
              "\n",
              "    .dataframe tbody tr th {\n",
              "        vertical-align: top;\n",
              "    }\n",
              "\n",
              "    .dataframe thead th {\n",
              "        text-align: right;\n",
              "    }\n",
              "</style>\n",
              "<table border=\"1\" class=\"dataframe\">\n",
              "  <thead>\n",
              "    <tr style=\"text-align: right;\">\n",
              "      <th></th>\n",
              "      <th>0</th>\n",
              "      <th>1</th>\n",
              "      <th>2</th>\n",
              "      <th>3</th>\n",
              "      <th>4</th>\n",
              "    </tr>\n",
              "  </thead>\n",
              "  <tbody>\n",
              "    <tr>\n",
              "      <th>0</th>\n",
              "      <td>Venezuela</td>\n",
              "      <td>46.4</td>\n",
              "      <td>392</td>\n",
              "      <td>0.40</td>\n",
              "      <td>68.5</td>\n",
              "    </tr>\n",
              "    <tr>\n",
              "      <th>1</th>\n",
              "      <td>Mexico</td>\n",
              "      <td>45.7</td>\n",
              "      <td>118</td>\n",
              "      <td>0.61</td>\n",
              "      <td>87.8</td>\n",
              "    </tr>\n",
              "    <tr>\n",
              "      <th>2</th>\n",
              "      <td>Ecuador</td>\n",
              "      <td>45.3</td>\n",
              "      <td>44</td>\n",
              "      <td>0.53</td>\n",
              "      <td>115.8</td>\n",
              "    </tr>\n",
              "    <tr>\n",
              "      <th>3</th>\n",
              "      <td>Colombia</td>\n",
              "      <td>38.6</td>\n",
              "      <td>158</td>\n",
              "      <td>0.53</td>\n",
              "      <td>106.8</td>\n",
              "    </tr>\n",
              "    <tr>\n",
              "      <th>4</th>\n",
              "      <td>Ceylon</td>\n",
              "      <td>37.2</td>\n",
              "      <td>81</td>\n",
              "      <td>0.53</td>\n",
              "      <td>71.6</td>\n",
              "    </tr>\n",
              "  </tbody>\n",
              "</table>\n",
              "</div>"
            ],
            "text/plain": [
              "           0     1    2     3      4\n",
              "0  Venezuela  46.4  392  0.40   68.5\n",
              "1     Mexico  45.7  118  0.61   87.8\n",
              "2    Ecuador  45.3   44  0.53  115.8\n",
              "3   Colombia  38.6  158  0.53  106.8\n",
              "4     Ceylon  37.2   81  0.53   71.6"
            ]
          },
          "metadata": {
            "tags": []
          },
          "execution_count": 328
        }
      ]
    },
    {
      "cell_type": "code",
      "metadata": {
        "colab": {
          "base_uri": "https://localhost:8080/",
          "height": 204
        },
        "id": "r62PHOCdblg8",
        "outputId": "572a40f6-cc19-47e4-ed49-255771b21e94"
      },
      "source": [
        "# chnage column name as per data\n",
        "df = df.rename(columns={0:\"nation\",1:\"birth_rate\",2:\"per_capita_income\",3:\"proportion_of_population_of_farms\",4:\"infant_mortality_rate\"})\n",
        "df.head()"
      ],
      "execution_count": 329,
      "outputs": [
        {
          "output_type": "execute_result",
          "data": {
            "text/html": [
              "<div>\n",
              "<style scoped>\n",
              "    .dataframe tbody tr th:only-of-type {\n",
              "        vertical-align: middle;\n",
              "    }\n",
              "\n",
              "    .dataframe tbody tr th {\n",
              "        vertical-align: top;\n",
              "    }\n",
              "\n",
              "    .dataframe thead th {\n",
              "        text-align: right;\n",
              "    }\n",
              "</style>\n",
              "<table border=\"1\" class=\"dataframe\">\n",
              "  <thead>\n",
              "    <tr style=\"text-align: right;\">\n",
              "      <th></th>\n",
              "      <th>nation</th>\n",
              "      <th>birth_rate</th>\n",
              "      <th>per_capita_income</th>\n",
              "      <th>proportion_of_population_of_farms</th>\n",
              "      <th>infant_mortality_rate</th>\n",
              "    </tr>\n",
              "  </thead>\n",
              "  <tbody>\n",
              "    <tr>\n",
              "      <th>0</th>\n",
              "      <td>Venezuela</td>\n",
              "      <td>46.4</td>\n",
              "      <td>392</td>\n",
              "      <td>0.40</td>\n",
              "      <td>68.5</td>\n",
              "    </tr>\n",
              "    <tr>\n",
              "      <th>1</th>\n",
              "      <td>Mexico</td>\n",
              "      <td>45.7</td>\n",
              "      <td>118</td>\n",
              "      <td>0.61</td>\n",
              "      <td>87.8</td>\n",
              "    </tr>\n",
              "    <tr>\n",
              "      <th>2</th>\n",
              "      <td>Ecuador</td>\n",
              "      <td>45.3</td>\n",
              "      <td>44</td>\n",
              "      <td>0.53</td>\n",
              "      <td>115.8</td>\n",
              "    </tr>\n",
              "    <tr>\n",
              "      <th>3</th>\n",
              "      <td>Colombia</td>\n",
              "      <td>38.6</td>\n",
              "      <td>158</td>\n",
              "      <td>0.53</td>\n",
              "      <td>106.8</td>\n",
              "    </tr>\n",
              "    <tr>\n",
              "      <th>4</th>\n",
              "      <td>Ceylon</td>\n",
              "      <td>37.2</td>\n",
              "      <td>81</td>\n",
              "      <td>0.53</td>\n",
              "      <td>71.6</td>\n",
              "    </tr>\n",
              "  </tbody>\n",
              "</table>\n",
              "</div>"
            ],
            "text/plain": [
              "      nation  ...  infant_mortality_rate\n",
              "0  Venezuela  ...                   68.5\n",
              "1     Mexico  ...                   87.8\n",
              "2    Ecuador  ...                  115.8\n",
              "3   Colombia  ...                  106.8\n",
              "4     Ceylon  ...                   71.6\n",
              "\n",
              "[5 rows x 5 columns]"
            ]
          },
          "metadata": {
            "tags": []
          },
          "execution_count": 329
        }
      ]
    },
    {
      "cell_type": "code",
      "metadata": {
        "colab": {
          "base_uri": "https://localhost:8080/"
        },
        "id": "q_FzkLc3bufL",
        "outputId": "6594e575-8848-4400-a227-d0605100a10f"
      },
      "source": [
        "# Data preprocessing, divide data into features and target for linear regression\n",
        "X = df.values[:,2:5]\n",
        "y = df.values[:,1]\n",
        "print(\"Shape of features is: {}, shape of target is:{}\".format(X.shape,y.shape))\n",
        "\n",
        "# convert object data to float\n",
        "X = np.array(X,dtype=\"float\")\n",
        "y = np.array(y,dtype=\"float\")"
      ],
      "execution_count": 330,
      "outputs": [
        {
          "output_type": "stream",
          "text": [
            "Shape of features is: (29, 3), shape of target is:(29,)\n"
          ],
          "name": "stdout"
        }
      ]
    },
    {
      "cell_type": "markdown",
      "metadata": {
        "id": "IH37wOM7cO5a"
      },
      "source": [
        "We need Y = X0W0 + X1W1 format notice here X0 is missing here so adding X0 as array\n"
      ]
    },
    {
      "cell_type": "code",
      "metadata": {
        "id": "xh2LtjD0cOLc"
      },
      "source": [
        "# adding in 1's X first column\n",
        "X = np.c_[np.ones(X.shape[0]),X]"
      ],
      "execution_count": 331,
      "outputs": []
    },
    {
      "cell_type": "code",
      "metadata": {
        "colab": {
          "base_uri": "https://localhost:8080/"
        },
        "id": "dkSR18DHcLxr",
        "outputId": "d1969506-16ef-4eb0-ddcb-79fbd610fe97"
      },
      "source": [
        "# check X,y\n",
        "X[:2],y[:2]"
      ],
      "execution_count": 332,
      "outputs": [
        {
          "output_type": "execute_result",
          "data": {
            "text/plain": [
              "(array([[  1.  , 392.  ,   0.4 ,  68.5 ],\n",
              "        [  1.  , 118.  ,   0.61,  87.8 ]]), array([46.4, 45.7]))"
            ]
          },
          "metadata": {
            "tags": []
          },
          "execution_count": 332
        }
      ]
    },
    {
      "cell_type": "markdown",
      "metadata": {
        "id": "vhjUVUi3c3HJ"
      },
      "source": [
        "Lets find Fitted parameters by matrix inverse method, so we can verify our answer with gradient descent later"
      ]
    },
    {
      "cell_type": "code",
      "metadata": {
        "colab": {
          "base_uri": "https://localhost:8080/"
        },
        "id": "VugID43BdIyZ",
        "outputId": "a93efdcf-3177-4cf0-a85c-48f3a22e7865"
      },
      "source": [
        "# using matrix inverse method\n",
        "theta_best = np.linalg.inv(X.T.dot(X)).dot(X.T).dot(y)\n",
        "print(\"best fitted params by matrix method is: {}\".format(theta_best))"
      ],
      "execution_count": 333,
      "outputs": [
        {
          "output_type": "stream",
          "text": [
            "best fitted params by matrix method is: [6.17713470e+00 5.53043266e-03 8.79467539e+00 2.38888103e-01]\n"
          ],
          "name": "stdout"
        }
      ]
    },
    {
      "cell_type": "code",
      "metadata": {
        "id": "hxHcKyEkdW-H"
      },
      "source": [
        "# set random seed for cosistant result\n",
        "np.random.seed(22)"
      ],
      "execution_count": 355,
      "outputs": []
    },
    {
      "cell_type": "code",
      "metadata": {
        "id": "f_wcxq4qeF_F"
      },
      "source": [
        "# Now lets define loss function \n",
        "def least_square_loss(X,y,w):\n",
        "  m = len(y)\n",
        "  n = len(w)\n",
        "\n",
        "  # reshape for matching dimetions\n",
        "  y = np.reshape(y,(m,1))\n",
        "  w = np.reshape(w,(n,1))\n",
        "\n",
        "  # error \n",
        "  error = X.dot(w) - y\n",
        "\n",
        "  # calculate loss\n",
        "  loss = (1/m) * error.T.dot(error)\n",
        "  return loss"
      ],
      "execution_count": 356,
      "outputs": []
    },
    {
      "cell_type": "code",
      "metadata": {
        "id": "2c7M2TumhvkK"
      },
      "source": [
        "# get theta loss fuunction\n",
        "def theta_loss(theta):\n",
        "  return least_square_loss(X,y,theta)"
      ],
      "execution_count": 357,
      "outputs": []
    },
    {
      "cell_type": "code",
      "metadata": {
        "id": "72TBR2ygkkfY"
      },
      "source": [
        "# define cost function\n",
        "def gradient_cost_function(X,y,w):\n",
        "  m = len(y)\n",
        "  n = len(w)\n",
        "\n",
        "  # reshape for dot product\n",
        "  y = np.reshape(y,(m,1))\n",
        "  w = np.reshape(w,(n,1))\n",
        "\n",
        "  loss = X.dot(w) - y\n",
        "\n",
        "  total_loss = (2/m) * X.T.dot(loss)\n",
        "  return total_loss"
      ],
      "execution_count": 358,
      "outputs": []
    },
    {
      "cell_type": "code",
      "metadata": {
        "id": "9s2kq6NjeGB_"
      },
      "source": [
        "# now define gradient descent function\n",
        "def gradient_descent(X,y,lr=0.1,iteration=100):\n",
        "  m = len(y)\n",
        "  # since X has 4 dimetions(features)\n",
        "  theta = np.random.randn(4,1)\n",
        "\n",
        "  # for tracking errors\n",
        "  theta_list = []\n",
        "\n",
        "  # start itertion\n",
        "  for i in range(iteration):\n",
        "    gradients = gradient_cost_function(X, y, theta)\n",
        "    theta = theta - lr * gradients\n",
        "    theta_list.append(theta)\n",
        "  return theta, theta_list"
      ],
      "execution_count": 359,
      "outputs": []
    },
    {
      "cell_type": "code",
      "metadata": {
        "colab": {
          "base_uri": "https://localhost:8080/"
        },
        "id": "a5juUg8KgMPA",
        "outputId": "321aff57-587f-4ae1-d2e8-b2fd47095d11"
      },
      "source": [
        "# Now for gradient descent, we have not use normalization on data so start with very small learning steps\n",
        "rate = 2.e-6\n",
        "iter_ = 100\n",
        "theta_100, theta_list_100 = gradient_descent(X,y, lr= rate, iteration=iter_)\n",
        "print(\"model params for lr:{} and iteration: {} is :{}\".format(rate,iter_,theta_100))"
      ],
      "execution_count": 414,
      "outputs": [
        {
          "output_type": "stream",
          "text": [
            "model params for lr:2e-06 and iteration: 100 is :[[-1.37679831]\n",
            " [ 0.00873834]\n",
            " [ 0.54175654]\n",
            " [ 0.4239081 ]]\n"
          ],
          "name": "stdout"
        }
      ]
    },
    {
      "cell_type": "markdown",
      "metadata": {
        "id": "BAucnnB-oZxK"
      },
      "source": [
        "### 2) Plot the loss function versus steps of the gradient descent."
      ]
    },
    {
      "cell_type": "code",
      "metadata": {
        "id": "X12gBYOVeGFb"
      },
      "source": [
        "def plot_loss_function_vs_iteration_graph(params_list):\n",
        "  loss_iter = []\n",
        "  for i in params_list:\n",
        "    loss_iter.append(theta_loss(i))\n",
        "  loss_point = [p[0] for p in loss_iter]\n",
        "  plt.title(r\"gradient descent\")\n",
        "  fig_1 = plt.plot(range(1, len(loss_point)+1), loss_point,  c = \"blue\")\n",
        "  plt.ylabel(r\"Loss Function\")\n",
        "  plt.xlabel(r\"Number of iterations\")"
      ],
      "execution_count": 419,
      "outputs": []
    },
    {
      "cell_type": "code",
      "metadata": {
        "colab": {
          "base_uri": "https://localhost:8080/",
          "height": 301
        },
        "id": "tojePjj7pkxC",
        "outputId": "36d169c0-1daa-4e24-ce55-9b8771e93cb2"
      },
      "source": [
        "# now plot the loss vs iteration\n",
        "plot_loss_function_vs_iteration_graph(theta_list_100)"
      ],
      "execution_count": 420,
      "outputs": [
        {
          "output_type": "display_data",
          "data": {
            "image/png": "[encoded data removed]",
            "text/plain": [
              "<Figure size 432x288 with 1 Axes>"
            ]
          },
          "metadata": {
            "tags": []
          }
        }
      ]
    },
    {
      "cell_type": "markdown",
      "metadata": {
        "id": "KmdJw6INp6dQ"
      },
      "source": [
        "### 3) Predict the birth in Canada using the following values: Per Capita Income: 993 Proportion of population on farms: 0.19 Infant Mortality Rate: 33.7"
      ]
    },
    {
      "cell_type": "code",
      "metadata": {
        "colab": {
          "base_uri": "https://localhost:8080/"
        },
        "id": "1DklGIdsp50d",
        "outputId": "08a9d74a-3b47-43db-9844-562a992eaee2"
      },
      "source": [
        "# predict birth rate in canada based on gradient descent value\n",
        "canada_vector = np.array([1,993.0,0.19,33.7]).reshape(-1,1)\n",
        "\n",
        "# get dot product\n",
        "birth_rate_for_canada = np.dot(theta_100.T,canada_vector)[0][0]\n",
        "print(\"Predicted birth rate of canada by using best params of gradient descent is :{}\".format(birth_rate_for_canada))\n",
        "\n",
        "# to verify this value, lets check with theta_best by inverse matrix\n",
        "\n",
        "birth_rate_for_canada_matrix_inv =  np.dot(theta_best.T,canada_vector)[0]\n",
        "print(\"Predicted birth rate of canada by using matrix inverse is :{}\".format(birth_rate_for_canada_matrix_inv))"
      ],
      "execution_count": 433,
      "outputs": [
        {
          "output_type": "stream",
          "text": [
            "Predicted birth rate of canada by using best params of gradient descent is :21.68900980076026\n",
            "Predicted birth rate of canada by using matrix inverse is :21.390371720084907\n"
          ],
          "name": "stdout"
        }
      ]
    },
    {
      "cell_type": "markdown",
      "metadata": {
        "id": "NU0MfixKrzp2"
      },
      "source": [
        "**Final Conclusion for Problem 1**\n",
        "* Predicted value for birth rate is : **21.68**\n",
        "* We can see by using gradient descent and matrix inv, both value is near ~21.5\n",
        "* Hence we can say parameter we found is appropriate."
      ]
    },
    {
      "cell_type": "markdown",
      "metadata": {
        "id": "a-8i0sEnJP_l"
      },
      "source": [
        "## Problem 2: Logistic Regression\n",
        "The following figure shows the dataset with two features and a binary classification (color).\n",
        "1. Divide the data into 70/30 percent for training/testing.\n",
        "2. Find the best parameter of the logistic function assuming a cross-entropy loss and using\n",
        "one of the optimization techniques.\n",
        "3. Find the performance of your trained model on the testing dataset."
      ]
    },
    {
      "cell_type": "markdown",
      "metadata": {
        "id": "9EerF9e6JxpM"
      },
      "source": [
        "### 1) Divide the data into 70/30 percent for training/testing."
      ]
    },
    {
      "cell_type": "code",
      "metadata": {
        "id": "xvSEB6LrJO2T"
      },
      "source": [
        "# Import necessary packages\n",
        "\n",
        "import pandas as pd\n",
        "import matplotlib.pyplot as plt\n",
        "import numpy as np\n",
        "import seaborn as sns\n",
        "\n",
        "# for pretty plots\n",
        "sns.set()"
      ],
      "execution_count": 130,
      "outputs": []
    },
    {
      "cell_type": "code",
      "metadata": {
        "colab": {
          "resources": {
            "http://localhost:8080/nbextensions/google.colab/files.js": {
              "data": "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",
              "ok": true,
              "headers": [
                [
                  "content-type",
                  "application/javascript"
                ]
              ],
              "status": 200,
              "status_text": ""
            }
          },
          "base_uri": "https://localhost:8080/",
          "height": 72
        },
        "id": "J0b8WMmpPYLE",
        "outputId": "50b58977-011a-43c8-9fb9-93e991480c75"
      },
      "source": [
        "# data file upload from local machine\n",
        "# For .csv file upload.\n",
        "from google.colab import files\n",
        "uploaded = files.upload()"
      ],
      "execution_count": 2,
      "outputs": [
        {
          "output_type": "display_data",
          "data": {
            "text/html": [
              "\n",
              "     <input type=\"file\" id=\"files-ff9e86f3-5cbd-4ea9-bdb1-387c3565df29\" name=\"files[]\" multiple disabled\n",
              "        style=\"border:none\" />\n",
              "     <output id=\"result-ff9e86f3-5cbd-4ea9-bdb1-387c3565df29\">\n",
              "      Upload widget is only available when the cell has been executed in the\n",
              "      current browser session. Please rerun this cell to enable.\n",
              "      </output>\n",
              "      <script src=\"/nbextensions/google.colab/files.js\"></script> "
            ],
            "text/plain": [
              "<IPython.core.display.HTML object>"
            ]
          },
          "metadata": {
            "tags": []
          }
        },
        {
          "output_type": "stream",
          "text": [
            "Saving logistic_reg.csv to logistic_reg.csv\n"
          ],
          "name": "stdout"
        }
      ]
    },
    {
      "cell_type": "code",
      "metadata": {
        "id": "Qn439XqePf9C"
      },
      "source": [
        "# Open file as dataframe\n",
        "df = pd.read_csv(\"logistic_reg.csv\")"
      ],
      "execution_count": 3,
      "outputs": []
    },
    {
      "cell_type": "code",
      "metadata": {
        "colab": {
          "base_uri": "https://localhost:8080/",
          "height": 204
        },
        "id": "mPJ9lL8gRiSD",
        "outputId": "9d9decbc-0687-4425-d60c-e54a834350e4"
      },
      "source": [
        "# check data\n",
        "df.head(5)"
      ],
      "execution_count": 4,
      "outputs": [
        {
          "output_type": "execute_result",
          "data": {
            "text/html": [
              "<div>\n",
              "<style scoped>\n",
              "    .dataframe tbody tr th:only-of-type {\n",
              "        vertical-align: middle;\n",
              "    }\n",
              "\n",
              "    .dataframe tbody tr th {\n",
              "        vertical-align: top;\n",
              "    }\n",
              "\n",
              "    .dataframe thead th {\n",
              "        text-align: right;\n",
              "    }\n",
              "</style>\n",
              "<table border=\"1\" class=\"dataframe\">\n",
              "  <thead>\n",
              "    <tr style=\"text-align: right;\">\n",
              "      <th></th>\n",
              "      <th>Unnamed: 0</th>\n",
              "      <th>X1</th>\n",
              "      <th>X2</th>\n",
              "      <th>y</th>\n",
              "    </tr>\n",
              "  </thead>\n",
              "  <tbody>\n",
              "    <tr>\n",
              "      <th>0</th>\n",
              "      <td>0</td>\n",
              "      <td>3.206197</td>\n",
              "      <td>3.256028</td>\n",
              "      <td>1</td>\n",
              "    </tr>\n",
              "    <tr>\n",
              "      <th>1</th>\n",
              "      <td>1</td>\n",
              "      <td>-3.801475</td>\n",
              "      <td>0.203568</td>\n",
              "      <td>1</td>\n",
              "    </tr>\n",
              "    <tr>\n",
              "      <th>2</th>\n",
              "      <td>2</td>\n",
              "      <td>2.540271</td>\n",
              "      <td>2.380449</td>\n",
              "      <td>1</td>\n",
              "    </tr>\n",
              "    <tr>\n",
              "      <th>3</th>\n",
              "      <td>3</td>\n",
              "      <td>3.442366</td>\n",
              "      <td>3.552647</td>\n",
              "      <td>1</td>\n",
              "    </tr>\n",
              "    <tr>\n",
              "      <th>4</th>\n",
              "      <td>4</td>\n",
              "      <td>-2.672117</td>\n",
              "      <td>1.791972</td>\n",
              "      <td>1</td>\n",
              "    </tr>\n",
              "  </tbody>\n",
              "</table>\n",
              "</div>"
            ],
            "text/plain": [
              "   Unnamed: 0        X1        X2  y\n",
              "0           0  3.206197  3.256028  1\n",
              "1           1 -3.801475  0.203568  1\n",
              "2           2  2.540271  2.380449  1\n",
              "3           3  3.442366  3.552647  1\n",
              "4           4 -2.672117  1.791972  1"
            ]
          },
          "metadata": {
            "tags": []
          },
          "execution_count": 4
        }
      ]
    },
    {
      "cell_type": "markdown",
      "metadata": {
        "id": "Xr0gR2gERoKj"
      },
      "source": [
        "In above data we can see, there is a column called Unnamed: 0, we need to drop it since it is not being used."
      ]
    },
    {
      "cell_type": "code",
      "metadata": {
        "colab": {
          "base_uri": "https://localhost:8080/"
        },
        "id": "ExidTm06RkuR",
        "outputId": "6b24ac02-0cbb-4276-9000-570290069dd8"
      },
      "source": [
        "# drop unwanted column\n",
        "df.drop(columns=[\"Unnamed: 0\"],inplace=True)\n",
        "df.columns"
      ],
      "execution_count": 5,
      "outputs": [
        {
          "output_type": "execute_result",
          "data": {
            "text/plain": [
              "Index(['X1', 'X2', 'y'], dtype='object')"
            ]
          },
          "metadata": {
            "tags": []
          },
          "execution_count": 5
        }
      ]
    },
    {
      "cell_type": "code",
      "metadata": {
        "colab": {
          "base_uri": "https://localhost:8080/",
          "height": 204
        },
        "id": "x3_MaYYIR9CP",
        "outputId": "bdefb0b4-0f20-47a3-d9d8-e7aabd6943e2"
      },
      "source": [
        "df.head(5)"
      ],
      "execution_count": 6,
      "outputs": [
        {
          "output_type": "execute_result",
          "data": {
            "text/html": [
              "<div>\n",
              "<style scoped>\n",
              "    .dataframe tbody tr th:only-of-type {\n",
              "        vertical-align: middle;\n",
              "    }\n",
              "\n",
              "    .dataframe tbody tr th {\n",
              "        vertical-align: top;\n",
              "    }\n",
              "\n",
              "    .dataframe thead th {\n",
              "        text-align: right;\n",
              "    }\n",
              "</style>\n",
              "<table border=\"1\" class=\"dataframe\">\n",
              "  <thead>\n",
              "    <tr style=\"text-align: right;\">\n",
              "      <th></th>\n",
              "      <th>X1</th>\n",
              "      <th>X2</th>\n",
              "      <th>y</th>\n",
              "    </tr>\n",
              "  </thead>\n",
              "  <tbody>\n",
              "    <tr>\n",
              "      <th>0</th>\n",
              "      <td>3.206197</td>\n",
              "      <td>3.256028</td>\n",
              "      <td>1</td>\n",
              "    </tr>\n",
              "    <tr>\n",
              "      <th>1</th>\n",
              "      <td>-3.801475</td>\n",
              "      <td>0.203568</td>\n",
              "      <td>1</td>\n",
              "    </tr>\n",
              "    <tr>\n",
              "      <th>2</th>\n",
              "      <td>2.540271</td>\n",
              "      <td>2.380449</td>\n",
              "      <td>1</td>\n",
              "    </tr>\n",
              "    <tr>\n",
              "      <th>3</th>\n",
              "      <td>3.442366</td>\n",
              "      <td>3.552647</td>\n",
              "      <td>1</td>\n",
              "    </tr>\n",
              "    <tr>\n",
              "      <th>4</th>\n",
              "      <td>-2.672117</td>\n",
              "      <td>1.791972</td>\n",
              "      <td>1</td>\n",
              "    </tr>\n",
              "  </tbody>\n",
              "</table>\n",
              "</div>"
            ],
            "text/plain": [
              "         X1        X2  y\n",
              "0  3.206197  3.256028  1\n",
              "1 -3.801475  0.203568  1\n",
              "2  2.540271  2.380449  1\n",
              "3  3.442366  3.552647  1\n",
              "4 -2.672117  1.791972  1"
            ]
          },
          "metadata": {
            "tags": []
          },
          "execution_count": 6
        }
      ]
    },
    {
      "cell_type": "markdown",
      "metadata": {
        "id": "GZojz07dSAWD"
      },
      "source": [
        "now data looks ok"
      ]
    },
    {
      "cell_type": "code",
      "metadata": {
        "id": "nxZQYYyZR_fK"
      },
      "source": [
        "# lets define features as X and classification target as y\n",
        "features = [col for col in df.columns if col != 'y']\n",
        "X = df[features]\n",
        "y = df[\"y\"]"
      ],
      "execution_count": 7,
      "outputs": []
    },
    {
      "cell_type": "code",
      "metadata": {
        "colab": {
          "base_uri": "https://localhost:8080/",
          "height": 419
        },
        "id": "udy5z0eHSO1C",
        "outputId": "a3f7ee58-4bdd-404e-b55e-9777c0d73ca2"
      },
      "source": [
        "# features\n",
        "X"
      ],
      "execution_count": 8,
      "outputs": [
        {
          "output_type": "execute_result",
          "data": {
            "text/html": [
              "<div>\n",
              "<style scoped>\n",
              "    .dataframe tbody tr th:only-of-type {\n",
              "        vertical-align: middle;\n",
              "    }\n",
              "\n",
              "    .dataframe tbody tr th {\n",
              "        vertical-align: top;\n",
              "    }\n",
              "\n",
              "    .dataframe thead th {\n",
              "        text-align: right;\n",
              "    }\n",
              "</style>\n",
              "<table border=\"1\" class=\"dataframe\">\n",
              "  <thead>\n",
              "    <tr style=\"text-align: right;\">\n",
              "      <th></th>\n",
              "      <th>X1</th>\n",
              "      <th>X2</th>\n",
              "    </tr>\n",
              "  </thead>\n",
              "  <tbody>\n",
              "    <tr>\n",
              "      <th>0</th>\n",
              "      <td>3.206197</td>\n",
              "      <td>3.256028</td>\n",
              "    </tr>\n",
              "    <tr>\n",
              "      <th>1</th>\n",
              "      <td>-3.801475</td>\n",
              "      <td>0.203568</td>\n",
              "    </tr>\n",
              "    <tr>\n",
              "      <th>2</th>\n",
              "      <td>2.540271</td>\n",
              "      <td>2.380449</td>\n",
              "    </tr>\n",
              "    <tr>\n",
              "      <th>3</th>\n",
              "      <td>3.442366</td>\n",
              "      <td>3.552647</td>\n",
              "    </tr>\n",
              "    <tr>\n",
              "      <th>4</th>\n",
              "      <td>-2.672117</td>\n",
              "      <td>1.791972</td>\n",
              "    </tr>\n",
              "    <tr>\n",
              "      <th>...</th>\n",
              "      <td>...</td>\n",
              "      <td>...</td>\n",
              "    </tr>\n",
              "    <tr>\n",
              "      <th>195</th>\n",
              "      <td>-5.127668</td>\n",
              "      <td>4.144140</td>\n",
              "    </tr>\n",
              "    <tr>\n",
              "      <th>196</th>\n",
              "      <td>2.734946</td>\n",
              "      <td>-3.434546</td>\n",
              "    </tr>\n",
              "    <tr>\n",
              "      <th>197</th>\n",
              "      <td>1.701252</td>\n",
              "      <td>-4.612408</td>\n",
              "    </tr>\n",
              "    <tr>\n",
              "      <th>198</th>\n",
              "      <td>3.190381</td>\n",
              "      <td>3.121165</td>\n",
              "    </tr>\n",
              "    <tr>\n",
              "      <th>199</th>\n",
              "      <td>2.155200</td>\n",
              "      <td>2.219480</td>\n",
              "    </tr>\n",
              "  </tbody>\n",
              "</table>\n",
              "<p>200 rows × 2 columns</p>\n",
              "</div>"
            ],
            "text/plain": [
              "           X1        X2\n",
              "0    3.206197  3.256028\n",
              "1   -3.801475  0.203568\n",
              "2    2.540271  2.380449\n",
              "3    3.442366  3.552647\n",
              "4   -2.672117  1.791972\n",
              "..        ...       ...\n",
              "195 -5.127668  4.144140\n",
              "196  2.734946 -3.434546\n",
              "197  1.701252 -4.612408\n",
              "198  3.190381  3.121165\n",
              "199  2.155200  2.219480\n",
              "\n",
              "[200 rows x 2 columns]"
            ]
          },
          "metadata": {
            "tags": []
          },
          "execution_count": 8
        }
      ]
    },
    {
      "cell_type": "code",
      "metadata": {
        "colab": {
          "base_uri": "https://localhost:8080/"
        },
        "id": "DSO_Eoy-SPfK",
        "outputId": "706029c6-f3d7-4309-b21d-c948177fe9a4"
      },
      "source": [
        "# class\n",
        "y"
      ],
      "execution_count": 9,
      "outputs": [
        {
          "output_type": "execute_result",
          "data": {
            "text/plain": [
              "0      1\n",
              "1      1\n",
              "2      1\n",
              "3      1\n",
              "4      1\n",
              "      ..\n",
              "195    1\n",
              "196    0\n",
              "197    0\n",
              "198    1\n",
              "199    1\n",
              "Name: y, Length: 200, dtype: int64"
            ]
          },
          "metadata": {
            "tags": []
          },
          "execution_count": 9
        }
      ]
    },
    {
      "cell_type": "markdown",
      "metadata": {
        "id": "Czf9BJvwSXXO"
      },
      "source": [
        "we have total 200 data points and we need to split these points into 70:30 % ratio for training/testing"
      ]
    },
    {
      "cell_type": "code",
      "metadata": {
        "id": "S9jWszAoSQdq"
      },
      "source": [
        "# set ranom seed  for producing consistant results.\n",
        "np.random.seed(22)\n",
        "\n",
        "# define function that returns splitting data\n",
        "def split_train_test(data,ratio):\n",
        "  # need to select random indexes for data\n",
        "  random_indexes = np.random.permutation(len(data))\n",
        "  #print(random_indexes)\n",
        "  # select test iloc indexes\n",
        "  test_size = int(len(data) * ratio)\n",
        "  # select train iloc indexes\n",
        "  test_index = random_indexes[:test_size]\n",
        "  train_index = random_indexes[test_size:]\n",
        "  return data.iloc[train_index],data.iloc[test_index]"
      ],
      "execution_count": 24,
      "outputs": []
    },
    {
      "cell_type": "code",
      "metadata": {
        "colab": {
          "base_uri": "https://localhost:8080/"
        },
        "id": "qv7-mvsDUN0S",
        "outputId": "b996818e-4336-4d61-ea0c-c92d77712b48"
      },
      "source": [
        "# spit train,test data based on give ratio\n",
        "train_data,test_data = split_train_test(df,0.3)\n",
        "print(\"After splitting train data size:{}\".format(len(train_data)))\n",
        "print(\"After splitting test data size:{}\".format(len(test_data)))"
      ],
      "execution_count": 25,
      "outputs": [
        {
          "output_type": "stream",
          "text": [
            "After splitting train data size:140\n",
            "After splitting test data size:60\n"
          ],
          "name": "stdout"
        }
      ]
    },
    {
      "cell_type": "code",
      "metadata": {
        "id": "zZHP2OjHV3qO"
      },
      "source": [
        "# divide set furture into X_train,y_train,X_test,y_test\n",
        "X_train = train_data[features]\n",
        "y_train = train_data[\"y\"]\n",
        "X_test = test_data[features]\n",
        "y_test = test_data[\"y\"]"
      ],
      "execution_count": 26,
      "outputs": []
    },
    {
      "cell_type": "markdown",
      "metadata": {
        "id": "__r1-FXtVpWu"
      },
      "source": [
        "Splitting done with train and test data set."
      ]
    },
    {
      "cell_type": "code",
      "metadata": {
        "colab": {
          "base_uri": "https://localhost:8080/",
          "height": 419
        },
        "id": "TJdx7E0KUWRF",
        "outputId": "e83f3cb6-3c32-42cb-b97c-674f67df6834"
      },
      "source": [
        "# check sample\n",
        "X_train"
      ],
      "execution_count": 28,
      "outputs": [
        {
          "output_type": "execute_result",
          "data": {
            "text/html": [
              "<div>\n",
              "<style scoped>\n",
              "    .dataframe tbody tr th:only-of-type {\n",
              "        vertical-align: middle;\n",
              "    }\n",
              "\n",
              "    .dataframe tbody tr th {\n",
              "        vertical-align: top;\n",
              "    }\n",
              "\n",
              "    .dataframe thead th {\n",
              "        text-align: right;\n",
              "    }\n",
              "</style>\n",
              "<table border=\"1\" class=\"dataframe\">\n",
              "  <thead>\n",
              "    <tr style=\"text-align: right;\">\n",
              "      <th></th>\n",
              "      <th>X1</th>\n",
              "      <th>X2</th>\n",
              "    </tr>\n",
              "  </thead>\n",
              "  <tbody>\n",
              "    <tr>\n",
              "      <th>197</th>\n",
              "      <td>1.701252</td>\n",
              "      <td>-4.612408</td>\n",
              "    </tr>\n",
              "    <tr>\n",
              "      <th>2</th>\n",
              "      <td>2.540271</td>\n",
              "      <td>2.380449</td>\n",
              "    </tr>\n",
              "    <tr>\n",
              "      <th>54</th>\n",
              "      <td>1.718974</td>\n",
              "      <td>1.547173</td>\n",
              "    </tr>\n",
              "    <tr>\n",
              "      <th>118</th>\n",
              "      <td>-3.856610</td>\n",
              "      <td>-3.692406</td>\n",
              "    </tr>\n",
              "    <tr>\n",
              "      <th>181</th>\n",
              "      <td>-2.955009</td>\n",
              "      <td>3.567634</td>\n",
              "    </tr>\n",
              "    <tr>\n",
              "      <th>...</th>\n",
              "      <td>...</td>\n",
              "      <td>...</td>\n",
              "    </tr>\n",
              "    <tr>\n",
              "      <th>100</th>\n",
              "      <td>-2.444857</td>\n",
              "      <td>2.773957</td>\n",
              "    </tr>\n",
              "    <tr>\n",
              "      <th>192</th>\n",
              "      <td>-3.902223</td>\n",
              "      <td>2.391065</td>\n",
              "    </tr>\n",
              "    <tr>\n",
              "      <th>44</th>\n",
              "      <td>1.639006</td>\n",
              "      <td>-4.744125</td>\n",
              "    </tr>\n",
              "    <tr>\n",
              "      <th>132</th>\n",
              "      <td>4.682556</td>\n",
              "      <td>4.888719</td>\n",
              "    </tr>\n",
              "    <tr>\n",
              "      <th>117</th>\n",
              "      <td>-2.108583</td>\n",
              "      <td>1.979517</td>\n",
              "    </tr>\n",
              "  </tbody>\n",
              "</table>\n",
              "<p>140 rows × 2 columns</p>\n",
              "</div>"
            ],
            "text/plain": [
              "           X1        X2\n",
              "197  1.701252 -4.612408\n",
              "2    2.540271  2.380449\n",
              "54   1.718974  1.547173\n",
              "118 -3.856610 -3.692406\n",
              "181 -2.955009  3.567634\n",
              "..        ...       ...\n",
              "100 -2.444857  2.773957\n",
              "192 -3.902223  2.391065\n",
              "44   1.639006 -4.744125\n",
              "132  4.682556  4.888719\n",
              "117 -2.108583  1.979517\n",
              "\n",
              "[140 rows x 2 columns]"
            ]
          },
          "metadata": {
            "tags": []
          },
          "execution_count": 28
        }
      ]
    },
    {
      "cell_type": "code",
      "metadata": {
        "colab": {
          "base_uri": "https://localhost:8080/"
        },
        "id": "kJyLwFwpV22d",
        "outputId": "901a6cc3-4e7d-458f-e439-68f71579d614"
      },
      "source": [
        "# check target class sample\n",
        "y_train"
      ],
      "execution_count": 30,
      "outputs": [
        {
          "output_type": "execute_result",
          "data": {
            "text/plain": [
              "197    0\n",
              "2      1\n",
              "54     1\n",
              "118    0\n",
              "181    1\n",
              "      ..\n",
              "100    1\n",
              "192    1\n",
              "44     0\n",
              "132    1\n",
              "117    1\n",
              "Name: y, Length: 140, dtype: int64"
            ]
          },
          "metadata": {
            "tags": []
          },
          "execution_count": 30
        }
      ]
    },
    {
      "cell_type": "markdown",
      "metadata": {
        "id": "BO1dm58oXJ_I"
      },
      "source": [
        "### 2) Find the best parameter of the logistic function assuming a cross-entropy loss and using one of the optimization techniques.\n",
        "\n",
        "Here are some points that used for developing best fit params for logistic regression\n",
        "\n",
        "Assume logistic regression is outputed by **Sigmoid** function ( which gives probablity of  class) which is formulated by\n",
        " \n",
        " *σ(x) = 1 / (1 + e^-x), x is input vector* output range of sigma(x) will be [0,1] in our case\n",
        " \n",
        "For this function we will select **Binary Cross Entropy** for cost/error function which is given by following equation\n",
        "\n",
        "We will use **gradient descent** optimiztion technique for finding best params\n",
        "\n",
        "Binary Cross Entropy Loss = - (1/n) Σ y log (y_pred) + (1-y) log (1-y_pred)\n",
        "\n",
        "where y_pred = sigmoid(y)\n",
        "\n",
        "once we have loss function, we can find derivative of it wrt W and B .\n",
        "\n",
        "dw = partial derivate of Loss wrt w\n",
        "\n",
        "db = partial derivative of Loss wrt b\n",
        "\n",
        "dw = (2/n) Σ X *(y_pred - y)\n",
        "\n",
        "db = (2/n) Σ ( y_pred - y)\n",
        "\n",
        "W_new = w - learning_rate * dw\n",
        "\n",
        "b_new = b - learning_rate * db\n",
        "\n",
        "Now, lets implement all of these steps\n",
        "\n"
      ]
    },
    {
      "cell_type": "code",
      "metadata": {
        "id": "WxOeplz0UZOj"
      },
      "source": [
        "# Lets  define sigmoid function first \n",
        "def sigmoid(x):\n",
        "  \"\"\"\n",
        "  this return probablity of class.\n",
        "  \"\"\"\n",
        "  return 1 / (1 + np.exp(-x))"
      ],
      "execution_count": 113,
      "outputs": []
    },
    {
      "cell_type": "code",
      "metadata": {
        "id": "vHisBubdgemT"
      },
      "source": [
        "# Now define binary cross entropy function.\n",
        "def binay_cross_entropy_loss(X, y, weights, bias):\n",
        "  \"\"\"\n",
        "  binary cross entropy function, gives loss for class prediction\n",
        "  \"\"\"\n",
        "  op = np.dot(X, weights) + bias\n",
        "  loss = - np.sum((y * np.log(sigmoid(op))) + ((1 - y) * np.log(1 - sigmoid(op)))) / len(X)\n",
        "  return loss"
      ],
      "execution_count": 114,
      "outputs": []
    },
    {
      "cell_type": "code",
      "metadata": {
        "id": "mtoFJ3tnqn0E"
      },
      "source": [
        "# Define logistic regression with gradient descent\n",
        "\n",
        "def logistic_regression(X,y,learning_rate=0.1,iteration=1000):\n",
        "  \"\"\"\n",
        "  logistic regression main function, gives optimal weights,bias and loss functions array\n",
        "  \"\"\"\n",
        "  # intialized W,bias and loss array for each steps\n",
        "  W = np.zeros(X.shape[1])\n",
        "  b = 0\n",
        "  bce_loss = []\n",
        "  for i in range(iteration):\n",
        "    # during iteration, get prediction probablity\n",
        "    prediction =  np.dot(X, W) + b\n",
        "    class_probablity = sigmoid(prediction)\n",
        "    # print(class_probablity)\n",
        "\n",
        "    # get partial  derivatives for w and b\n",
        "    dw = (1 / X.shape[0]) * (2 * np.dot(X.T, (class_probablity - y)))\n",
        "    db = (1 / X.shape[0]) * (2 * np.sum(class_probablity - y))\n",
        "\n",
        "    # update weight and bias with partial derivative\n",
        "    W = W - learning_rate * dw\n",
        "    b = b - learning_rate * db\n",
        "\n",
        "    # append calculated loss for function\n",
        "    bce_loss.append(binay_cross_entropy_loss(X,y,W,b))\n",
        "  \n",
        "  # return optiml W and b after give iterations\n",
        "  return W,b,bce_loss"
      ],
      "execution_count": 115,
      "outputs": []
    },
    {
      "cell_type": "code",
      "metadata": {
        "id": "SlsrPTZ5tU6q"
      },
      "source": [
        "# lets choose learning rate 0.1 and vary iterations\n",
        "W_,b_,loss_ = logistic_regression(X_train,y_train,learning_rate=0.1,iteration=1000)\n",
        "W_100,b_100,loss_100 = logistic_regression(X_train,y_train,learning_rate=0.1,iteration=100)\n",
        "W_50,b_50,loss_50 = logistic_regression(X_train,y_train,learning_rate=0.1,iteration=50)"
      ],
      "execution_count": 210,
      "outputs": []
    },
    {
      "cell_type": "code",
      "metadata": {
        "colab": {
          "base_uri": "https://localhost:8080/",
          "height": 301
        },
        "id": "GvlYf4nrtsJr",
        "outputId": "b31e04f9-48a4-435b-a4e3-9b7fe0a32899"
      },
      "source": [
        "# now plot for iter vs loss\n",
        "plt.plot([x for x in range(1000)],loss_,label=\"iter=1000\");\n",
        "plt.title(r\"Binary Entropy Loss vs Iteration\")\n",
        "plt.xlabel(r\"iteration\")\n",
        "plt.ylabel(r\"loss\", rotation=1,)\n",
        "plt.legend()\n",
        "plt.show() "
      ],
      "execution_count": 211,
      "outputs": [
        {
          "output_type": "display_data",
          "data": {
            "image/png": "[encoded data removed]",
            "text/plain": [
              "<Figure size 432x288 with 1 Axes>"
            ]
          },
          "metadata": {
            "tags": []
          }
        }
      ]
    },
    {
      "cell_type": "code",
      "metadata": {
        "colab": {
          "base_uri": "https://localhost:8080/",
          "height": 301
        },
        "id": "LEVreEZMtvBE",
        "outputId": "e6c11027-bbb8-4817-bd4c-e81571b25e42"
      },
      "source": [
        "plt.plot([x for x in range(100)],loss_100,label=\"iter=100\");\n",
        "plt.title(r\"Binary Entropy Loss vs Iteration\")\n",
        "plt.xlabel(r\"iteration\")\n",
        "plt.ylabel(r\"loss\", rotation=1,)\n",
        "plt.legend()\n",
        "plt.show()"
      ],
      "execution_count": 209,
      "outputs": [
        {
          "output_type": "display_data",
          "data": {
            "image/png": "[encoded data removed]",
            "text/plain": [
              "<Figure size 432x288 with 1 Axes>"
            ]
          },
          "metadata": {
            "tags": []
          }
        }
      ]
    },
    {
      "cell_type": "code",
      "metadata": {
        "colab": {
          "base_uri": "https://localhost:8080/",
          "height": 301
        },
        "id": "WNx8W3YfAtyu",
        "outputId": "19dbf000-cf18-4c65-b5ab-8cb7f8792e0d"
      },
      "source": [
        "plt.plot([x for x in range(50)],loss_50,label=\"iter=50\");\n",
        "plt.title(r\"Binary Entropy Loss vs Iteration\")\n",
        "plt.xlabel(r\"iteration\")\n",
        "plt.ylabel(r\"loss\", rotation=1,)\n",
        "plt.legend()\n",
        "plt.show()"
      ],
      "execution_count": 208,
      "outputs": [
        {
          "output_type": "display_data",
          "data": {
            "image/png": "[encoded data removed]",
            "text/plain": [
              "<Figure size 432x288 with 1 Axes>"
            ]
          },
          "metadata": {
            "tags": []
          }
        }
      ]
    },
    {
      "cell_type": "code",
      "metadata": {
        "id": "fifLS2aitzBZ"
      },
      "source": [
        "# lets choose learning rate 0.1,0.01,0.005 @ 100 iteration\n",
        "W_1,b_1,loss_1 = logistic_regression(X_train,y_train,learning_rate=0.1,iteration=100)\n",
        "W_0_1,b_0_1,loss_0_1 = logistic_regression(X_train,y_train,learning_rate=0.01,iteration=100)\n",
        "W_0_0_5,b_0_0_5,loss_0_0_5 = logistic_regression(X_train,y_train,learning_rate=0.005,iteration=100)"
      ],
      "execution_count": 206,
      "outputs": []
    },
    {
      "cell_type": "code",
      "metadata": {
        "colab": {
          "base_uri": "https://localhost:8080/",
          "height": 301
        },
        "id": "CtNqVadZBc-Q",
        "outputId": "9148a291-7850-4f8d-a70c-af3fbd09fde2"
      },
      "source": [
        "# plot observation\n",
        "\n",
        "plt.title(r\"Binary Entropy Loss vs Iteration\")\n",
        "plt.xlabel(r\"iteration\")\n",
        "plt.ylabel(r\"loss\", rotation=1,)\n",
        "plt.plot([x for x in range(100)],loss_1,label=\"lr=0.1\");\n",
        "plt.plot([x for x in range(100)],loss_0_1,label=\"lr=0.01\");\n",
        "plt.plot([x for x in range(100)],loss_0_0_5,label=\"lr=0.005\");\n",
        "plt.legend()\n",
        "plt.show()"
      ],
      "execution_count": 207,
      "outputs": [
        {
          "output_type": "display_data",
          "data": {
            "image/png": "[encoded data removed]",
            "text/plain": [
              "<Figure size 432x288 with 1 Axes>"
            ]
          },
          "metadata": {
            "tags": []
          }
        }
      ]
    },
    {
      "cell_type": "markdown",
      "metadata": {
        "id": "Bzd2aHfwCvSa"
      },
      "source": [
        "By observing above anaylsis, lets select iteration 200 and lr 0.1 for obtaining optimal params"
      ]
    },
    {
      "cell_type": "code",
      "metadata": {
        "id": "0VfBpXZOCuqj"
      },
      "source": [
        "# Final params selection\n",
        "W_,b_,loss_ = logistic_regression(X_train,y_train,learning_rate=0.1,iteration=200)"
      ],
      "execution_count": 214,
      "outputs": []
    },
    {
      "cell_type": "code",
      "metadata": {
        "colab": {
          "base_uri": "https://localhost:8080/"
        },
        "id": "0BUY7tcDsOzg",
        "outputId": "652f6730-b589-46e4-9195-3ab36cf37977"
      },
      "source": [
        "# final params for logistic regression is \n",
        "print(\"Weight is :{} and bias is:{}\".format(W_,b_))"
      ],
      "execution_count": 434,
      "outputs": [
        {
          "output_type": "stream",
          "text": [
            "Weight is :[-0.05398017  2.27177073] and bias is:0.04807045488968703\n"
          ],
          "name": "stdout"
        }
      ]
    },
    {
      "cell_type": "markdown",
      "metadata": {
        "id": "EUiNTkw7uQQl"
      },
      "source": [
        "### 3) Find the performance of your trained model on the testing dataset.\n",
        "Now we will use our best parameters for finding prediction on remaining data on test set and "
      ]
    },
    {
      "cell_type": "code",
      "metadata": {
        "id": "wNOxzBq-t9s7"
      },
      "source": [
        "def predict(X,W,b):\n",
        "  \"\"\"\n",
        "  predict unknown X value for given params\n",
        "  \"\"\"\n",
        "  op = np.dot(X,W) + b\n",
        "  pred_probablity = sigmoid(op)\n",
        "  # trigger sigmoid function in case of prob value  more than 0.5, Note: this can be change as per requirement.\n",
        "  prediction = [1 if i > 0.5 else 0 for i in pred_probablity]\n",
        "  return prediction"
      ],
      "execution_count": 217,
      "outputs": []
    },
    {
      "cell_type": "code",
      "metadata": {
        "id": "XzrN4hZ0xH3T"
      },
      "source": [
        "# now get prediction for y_test\n",
        "y_pred = predict(X_test,W_,b_)"
      ],
      "execution_count": 218,
      "outputs": []
    },
    {
      "cell_type": "code",
      "metadata": {
        "id": "Bu2uLSwqt9vh"
      },
      "source": [
        "# Now check performance of model for given parameters , W_ and b_\n",
        "def accuracy(y,y_pred):\n",
        "  matched_class = 0\n",
        "  for i,j in zip(y,y_pred):\n",
        "    if i == j:\n",
        "      matched_class += 1\n",
        "  acc_score = matched_class / len(y)\n",
        "  return acc_score"
      ],
      "execution_count": 219,
      "outputs": []
    },
    {
      "cell_type": "code",
      "metadata": {
        "colab": {
          "base_uri": "https://localhost:8080/"
        },
        "id": "55InZv1Ct9yb",
        "outputId": "73c8a6cd-bc9b-4ee8-d5bb-450981dd7bf6"
      },
      "source": [
        "print(\"Accuracy for this model is: {}\".format(accuracy(list(y_test),y_pred)))"
      ],
      "execution_count": 220,
      "outputs": [
        {
          "output_type": "stream",
          "text": [
            "Accuracy for this model is: 1.0\n"
          ],
          "name": "stdout"
        }
      ]
    },
    {
      "cell_type": "markdown",
      "metadata": {
        "id": "Q2U7rb3m5Tx0"
      },
      "source": [
        "### Bonus: Confusion metrics, F1 score,Recall, Precision"
      ]
    },
    {
      "cell_type": "code",
      "metadata": {
        "colab": {
          "base_uri": "https://localhost:8080/"
        },
        "id": "C0NxBwKwt904",
        "outputId": "08d4a448-1ad4-4859-fe9d-f38b51e3402b"
      },
      "source": [
        "# these are additional metrics for measuring model or parametes.I am using sklearn metrics for this\n",
        "from sklearn.metrics import confusion_matrix,recall_score,precision_score,f1_score\n",
        "cm = confusion_matrix(y_test,y_pred)\n",
        "print(\"Confusion metrics for this model is:\\n {}\".format(cm))\n",
        "print(\"Recall for this model is :{}\".format(recall_score(y_test,y_pred)))\n",
        "print(\"Precision for this model is :{}\".format(precision_score(y_test,y_pred)))\n",
        "print(\"F1 score for this model is: {}\".format(f1_score(y_test,y_pred)))"
      ],
      "execution_count": 221,
      "outputs": [
        {
          "output_type": "stream",
          "text": [
            "Confusion metrics for this model is:\n",
            " [[31  0]\n",
            " [ 0 29]]\n",
            "Recall for this model is :1.0\n",
            "Precision for this model is :1.0\n",
            "F1 score for this model is: 1.0\n"
          ],
          "name": "stdout"
        }
      ]
    }
  ]
}